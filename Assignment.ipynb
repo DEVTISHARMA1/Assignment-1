{
 "cells": [
  {
   "cell_type": "code",
   "execution_count": 1,
   "id": "faabe624-322c-4a8d-b4cc-3ae25e76e6e1",
   "metadata": {},
   "outputs": [],
   "source": [
    "sting=\"student\""
   ]
  },
  {
   "cell_type": "code",
   "execution_count": 2,
   "id": "2aa473a5-6eca-4862-a2c4-a5ef8fb107c2",
   "metadata": {},
   "outputs": [
    {
     "data": {
      "text/plain": [
       "str"
      ]
     },
     "execution_count": 2,
     "metadata": {},
     "output_type": "execute_result"
    }
   ],
   "source": [
    "type(sting)"
   ]
  },
  {
   "cell_type": "code",
   "execution_count": 3,
   "id": "7a7d3183-5fdc-4e7c-9c8c-39b7c487c75a",
   "metadata": {},
   "outputs": [],
   "source": [
    "sum=[2,4,6,\"Data\",24.6,-46]"
   ]
  },
  {
   "cell_type": "code",
   "execution_count": 4,
   "id": "0e629ace-9352-492e-ab2d-632772811377",
   "metadata": {},
   "outputs": [
    {
     "data": {
      "text/plain": [
       "list"
      ]
     },
     "execution_count": 4,
     "metadata": {},
     "output_type": "execute_result"
    }
   ],
   "source": [
    "type(sum)"
   ]
  },
  {
   "cell_type": "code",
   "execution_count": 5,
   "id": "6f89f56c-2309-4a7f-bcff-63311df8da8e",
   "metadata": {},
   "outputs": [],
   "source": [
    "flot=(34.9909)"
   ]
  },
  {
   "cell_type": "code",
   "execution_count": 6,
   "id": "7a29f902-403b-4a52-84d5-04c043b09c2a",
   "metadata": {},
   "outputs": [
    {
     "data": {
      "text/plain": [
       "float"
      ]
     },
     "execution_count": 6,
     "metadata": {},
     "output_type": "execute_result"
    }
   ],
   "source": [
    "type(flot)"
   ]
  },
  {
   "cell_type": "code",
   "execution_count": 7,
   "id": "84643be0-3cd5-4dbc-a504-e5e6258fe2c3",
   "metadata": {},
   "outputs": [],
   "source": [
    "tupe=(6,56,\"earn\",\"money\")"
   ]
  },
  {
   "cell_type": "code",
   "execution_count": 8,
   "id": "ee92a3c6-2b3a-4f81-817d-d49b75dddced",
   "metadata": {},
   "outputs": [
    {
     "data": {
      "text/plain": [
       "tuple"
      ]
     },
     "execution_count": 8,
     "metadata": {},
     "output_type": "execute_result"
    }
   ],
   "source": [
    "type(tupe)"
   ]
  },
  {
   "cell_type": "markdown",
   "id": "d69ba4f8-c531-4a6d-ba7c-8e85dbbfae3d",
   "metadata": {},
   "source": [
    "||2 question"
   ]
  },
  {
   "cell_type": "markdown",
   "id": "979d0854-3458-4710-9b5e-ad7bd3565cdc",
   "metadata": {},
   "source": [
    "var1=' '=string\n",
    "var2='[DS,ML,PYTHON]'= string\n",
    "var3=['DS','ML','PYTHON'] = list\n",
    "var4=1. = float"
   ]
  },
  {
   "cell_type": "markdown",
   "id": "857612bd-2e7f-48bc-817b-20d79a0c887f",
   "metadata": {},
   "source": [
    "||3 question"
   ]
  },
  {
   "cell_type": "markdown",
   "id": "7f6c1e44-5658-47a6-86be-44cadbf28234",
   "metadata": {},
   "source": [
    "/ - It is used for division between two numbers."
   ]
  },
  {
   "cell_type": "code",
   "execution_count": 10,
   "id": "e7ebe732-3a91-4c31-af94-e81ab9e7abc7",
   "metadata": {},
   "outputs": [
    {
     "data": {
      "text/plain": [
       "20.0"
      ]
     },
     "execution_count": 10,
     "metadata": {},
     "output_type": "execute_result"
    }
   ],
   "source": [
    "100/5"
   ]
  },
  {
   "cell_type": "markdown",
   "id": "673e1cd1-c5b4-4aaf-8d84-a832c95eb0f9",
   "metadata": {},
   "source": [
    "% - It gives the remainder of integer division"
   ]
  },
  {
   "cell_type": "code",
   "execution_count": 12,
   "id": "653e5e9e-bd16-487a-a635-0e09c454ac47",
   "metadata": {},
   "outputs": [
    {
     "data": {
      "text/plain": [
       "1"
      ]
     },
     "execution_count": 12,
     "metadata": {},
     "output_type": "execute_result"
    }
   ],
   "source": [
    "100%3"
   ]
  },
  {
   "cell_type": "markdown",
   "id": "0da16573-debb-4307-8fa2-015421f1278f",
   "metadata": {},
   "source": [
    "// - It gives the floor value of divivsion operation"
   ]
  },
  {
   "cell_type": "code",
   "execution_count": 13,
   "id": "8988be1c-3501-4b06-bf4f-181e646a81d4",
   "metadata": {},
   "outputs": [
    {
     "data": {
      "text/plain": [
       "2"
      ]
     },
     "execution_count": 13,
     "metadata": {},
     "output_type": "execute_result"
    }
   ],
   "source": [
    "5//2"
   ]
  },
  {
   "cell_type": "markdown",
   "id": "75603aec-2ace-4088-99d7-07eaf944af02",
   "metadata": {},
   "source": [
    "** - It is the exponent operator"
   ]
  },
  {
   "cell_type": "code",
   "execution_count": 15,
   "id": "d0f386b1-a87b-4932-9907-fe134c3f3f50",
   "metadata": {},
   "outputs": [
    {
     "data": {
      "text/plain": [
       "729"
      ]
     },
     "execution_count": 15,
     "metadata": {},
     "output_type": "execute_result"
    }
   ],
   "source": [
    "3**6"
   ]
  },
  {
   "cell_type": "code",
   "execution_count": 16,
   "id": "0c71bf43-2e43-4b2c-ae04-c4c970cadf98",
   "metadata": {},
   "outputs": [
    {
     "name": "stdout",
     "output_type": "stream",
     "text": [
      "<class 'int'>\n",
      "<class 'int'>\n",
      "<class 'str'>\n",
      "<class 'str'>\n",
      "<class 'int'>\n",
      "<class 'float'>\n",
      "<class 'float'>\n",
      "<class 'str'>\n",
      "<class 'int'>\n",
      "<class 'int'>\n"
     ]
    }
   ],
   "source": [
    "lists=[2,22,\"data\",\"science\",42,56.008,23.92,\"flot\",222,2222]\n",
    "for i in lists:\n",
    "    print(type(i))"
   ]
  },
  {
   "cell_type": "code",
   "execution_count": 2,
   "id": "be84c68a-fbd3-419f-82be-dd04dcf89a81",
   "metadata": {},
   "outputs": [
    {
     "name": "stdout",
     "output_type": "stream",
     "text": [
      "A is divisible by B 1 times\n",
      "A is divisible by B 2 times\n"
     ]
    }
   ],
   "source": [
    "A=100\n",
    "B=10\n",
    "Count=0\n",
    "while A%B==0:\n",
    "    Count +=1\n",
    "    A/=B\n",
    "    print(\"A is divisible by B\", Count, \"times\")"
   ]
  },
  {
   "cell_type": "code",
   "execution_count": 5,
   "id": "2a3c5ea1-4398-4c49-96bb-35ce62d8b9d1",
   "metadata": {},
   "outputs": [
    {
     "name": "stdout",
     "output_type": "stream",
     "text": [
      "2 is not divisible by 3\n",
      "3 is divisible by 3\n",
      "4 is not divisible by 3\n",
      "56 is not divisible by 3\n",
      "564 is divisible by 3\n",
      "23 is not divisible by 3\n",
      "76 is not divisible by 3\n",
      "7543 is not divisible by 3\n",
      "3325 is not divisible by 3\n",
      "34235 is not divisible by 3\n",
      "235346 is not divisible by 3\n",
      "34 is not divisible by 3\n",
      "124 is not divisible by 3\n",
      "67 is not divisible by 3\n",
      "345 is divisible by 3\n",
      "87 is divisible by 3\n",
      "34 is not divisible by 3\n",
      "75 is divisible by 3\n",
      "24 is divisible by 3\n",
      "88 is not divisible by 3\n",
      "666 is divisible by 3\n",
      "544 is not divisible by 3\n",
      "876 is divisible by 3\n",
      "98 is not divisible by 3\n",
      "57 is divisible by 3\n",
      "45 is divisible by 3\n"
     ]
    }
   ],
   "source": [
    "lists=[2,3,4,56,564,23,76,7543,3325,34235,235346,34,124,67,345,87,34,75,24,88,666,544,876,98,57,45]\n",
    "for i in lists:\n",
    "    if i%3==0:\n",
    "        print(f\"{i} is divisible by 3\")\n",
    "    else:\n",
    "        print(f\"{i} is not divisible by 3\")\n"
   ]
  },
  {
   "cell_type": "markdown",
   "id": "abb96b06-7acc-4037-a347-1162a03e9abf",
   "metadata": {},
   "source": [
    "Mutable - that data type which can be changed.\n",
    "immutable - that data type which cannot be changed.\n",
    "Examles are given below respectively."
   ]
  },
  {
   "cell_type": "code",
   "execution_count": 6,
   "id": "6737c6e6-f2c6-4c88-983c-7af49b9a579d",
   "metadata": {},
   "outputs": [],
   "source": [
    "q=[2,567,\"hello\",\"see\",567.098]"
   ]
  },
  {
   "cell_type": "code",
   "execution_count": 7,
   "id": "6625d3f2-4236-42c8-9d50-266a91acbbcd",
   "metadata": {},
   "outputs": [],
   "source": [
    "q[2]=\"hi\""
   ]
  },
  {
   "cell_type": "code",
   "execution_count": 8,
   "id": "15f3583f-b23c-472e-b598-e42d3f26371e",
   "metadata": {},
   "outputs": [
    {
     "data": {
      "text/plain": [
       "[2, 567, 'hi', 'see', 567.098]"
      ]
     },
     "execution_count": 8,
     "metadata": {},
     "output_type": "execute_result"
    }
   ],
   "source": [
    "q"
   ]
  },
  {
   "cell_type": "code",
   "execution_count": 9,
   "id": "bdeb5f6e-cbe6-4017-adce-0384deb79444",
   "metadata": {},
   "outputs": [],
   "source": [
    "p=\"imutble\""
   ]
  },
  {
   "cell_type": "code",
   "execution_count": 11,
   "id": "b10cfa6f-69cf-49cf-9a67-a56922dc3f32",
   "metadata": {},
   "outputs": [
    {
     "ename": "TypeError",
     "evalue": "'str' object does not support item assignment",
     "output_type": "error",
     "traceback": [
      "\u001b[0;31m---------------------------------------------------------------------------\u001b[0m",
      "\u001b[0;31mTypeError\u001b[0m                                 Traceback (most recent call last)",
      "Cell \u001b[0;32mIn[11], line 1\u001b[0m\n\u001b[0;32m----> 1\u001b[0m \u001b[43mp\u001b[49m\u001b[43m[\u001b[49m\u001b[38;5;241;43m2\u001b[39;49m\u001b[43m]\u001b[49m\u001b[38;5;241m=\u001b[39m\u001b[38;5;124m\"\u001b[39m\u001b[38;5;124ma\u001b[39m\u001b[38;5;124m\"\u001b[39m\n",
      "\u001b[0;31mTypeError\u001b[0m: 'str' object does not support item assignment"
     ]
    }
   ],
   "source": [
    "p[2]=\"a\""
   ]
  },
  {
   "cell_type": "code",
   "execution_count": null,
   "id": "f974dee3-9acf-40ac-b3e3-880c5aac004e",
   "metadata": {},
   "outputs": [],
   "source": []
  }
 ],
 "metadata": {
  "kernelspec": {
   "display_name": "Python 3 (ipykernel)",
   "language": "python",
   "name": "python3"
  },
  "language_info": {
   "codemirror_mode": {
    "name": "ipython",
    "version": 3
   },
   "file_extension": ".py",
   "mimetype": "text/x-python",
   "name": "python",
   "nbconvert_exporter": "python",
   "pygments_lexer": "ipython3",
   "version": "3.10.8"
  }
 },
 "nbformat": 4,
 "nbformat_minor": 5
}
